{
 "cells": [
  {
   "cell_type": "markdown",
   "metadata": {},
   "source": [
    "prefix_ratio = len(prefix) / min(pred, gt) \n",
    "\n",
    "is_prefix = is_prefix(pred, gt) | is_prefix(gt, pred)"
   ]
  },
  {
   "cell_type": "code",
   "execution_count": 1,
   "metadata": {},
   "outputs": [],
   "source": [
    "import pandas as pd\n",
    "import matplotlib.pyplot as plt\n",
    "from io import StringIO\n",
    "from ipywidgets import interact, widgets\n",
    "from xlwings.utils import chunk\n",
    "import numpy as np\n",
    "from pathlib import Path\n",
    "\n",
    "from plotter import read_results, merge_df, get_group_columns, filter_target_columns, plot_dropdown, plot_dropdown_with_group_by, make_interaction\n",
    "\n",
    "%matplotlib inline"
   ]
  },
  {
   "cell_type": "code",
   "execution_count": 23,
   "metadata": {},
   "outputs": [],
   "source": [
    "base_path = Path(\"/mnt/data/kolomyttseva/long-contex-eval/output/rag_results/all_files\")\n",
    "\n",
    "paths_list = [\n",
    "    \"results_embed_full_file.jsonl\", # full_file\n",
    "    \"results_embed_python_chunk_score.jsonl\", # completion_last_chunk_size + fixed_line\n",
    "    \"results_fixed_line.jsonl\",\n",
    "    \"results_langchain.jsonl\",\n",
    "    \"results_scorers_splitters1_python_chunk_score.jsonl\",\n",
    "    \"results_scorers_splitters1_kotlin_chunk_score.jsonl\",\n",
    "    \"results_py_modules_python_draco.jsonl\",\n",
    "    \"results_py_full_file_python_draco.jsonl\",\n",
    "    \"results_multi_python_multi_score.jsonl\",\n",
    "    \"completion_last_chunk_size.jsonl\",\n",
    "]\n",
    "\n",
    "paths_list_only_py = [\n",
    "    \"results_chunk_completion_file_only_py_python_chunk_score.jsonl\", # completion_last_chunk_size + only_python\n",
    "    # \"results_embed_full_file_only_py_python_chunk_score.jsonl\", # only_python + full_file\n",
    "]"
   ]
  },
  {
   "cell_type": "code",
   "execution_count": null,
   "metadata": {},
   "outputs": [
    {
     "data": {
      "text/plain": [
       "'\\nresults_embed_full_file.jsonl\\n    - languages: [python, kotlin]\\n    - composer: chunk_score\\n    - chunker: full_file\\n    - scorer: dense\\n    - splitter: None\\n    - _allowed_extensions: [\".md\", \".txt\", \".rst\"]\\n\\nresults_embed_full_file_only_py_python_chunk_score.jsonl\\n    - languages: python\\n    - composer: chunk_score\\n    - chunker: full_file\\n    - scorer: dense\\n    - splitter: None\\n    - _allowed_extensions: []\\n\\nresults_embed_python_chunk_score.jsonl\\n    - languages: python\\n    - composer: chunk_score\\n    - chunker: fixed_line\\n    - scorer: dense\\n    - splitter: None\\n    - chunk_completion_file = True\\n    - completion_last_chunk_size = [8, 16, 32, 64, 128]\\n    - _allowed_extensions: [\".md\", \".txt\", \".rst\"]\\n\\n-------------------------------------------------------------------------    \\n\\nresults_scorers_splitters1_python_chunk_score.jsonl\\n    - languages: python\\n    - composer: chunk_score\\n    - chunker: full_file\\n    - scorer: [bm25, iou]\\n    - splitter: [word_splitter, line_splitter, word_tokenizer]\\n    - _allowed_extensions: [\".md\", \".txt\", \".rst\"]\\n\\nresults_scorers_splitters1_kotlin_chunk_score.jsonl\\n    - languages: kotlin\\n    - composer: chunk_score\\n    - chunker: full_file\\n    - scorer: [bm25, iou]\\n    - splitter: [word_splitter, line_splitter, word_tokenizer]\\n    - _allowed_extensions: [\".md\", \".txt\", \".rst\"]\\n\\nresults_fixed_line.jsonl\\n    - languages: [python, kotlin]\\n    - composer: chunk_score\\n    - chunker: fixed_line\\n    - scorer: bm25\\n    - splitter: word_splitter\\n    - chunk_lines_size = [8, 16, 32, 64, 128]\\n    - chunk_completion_file = [True, False]\\n    - completion_last_chunk_size = 32\\n    - _allowed_extensions: [\".md\", \".txt\", \".rst\"]\\n\\nresults_langchain.jsonl\\n    - languages: [python, kotlin]\\n    - composer: chunk_score\\n    - chunker: langchain\\n    - scorer: bm25\\n    - splitter: word_splitter\\n    - chunk_lines_size = [8, 16, 32, 64, 128]\\n    - chunk_completion_file = True\\n    - completion_last_chunk_size = 32\\n    - _allowed_extensions: [\".md\", \".txt\", \".rst\"]\\n\\nresults_chunk_completion_file_only_py_python_chunk_score.jsonl\\n    - languages: python\\n    - composer: chunk_score\\n    - chunker: full_file\\n    - scorer: bm25\\n    - splitter: word_splitter\\n    - chunk_completion_file = True\\n    - completion_last_chunk_size = [8, 16, 32, 64, 128]\\n    - _allowed_extensions: []\\n\\n-------------------------------------------------------------------------    \\n\\nresults_py_modules_python_draco.jsonl\\n    - languages: python\\n    - composer: draco\\n    - draco_use_full_file = False\\n    - _allowed_extensions: []\\n    \\nresults_py_full_file_python_draco.jsonl\\n    - languages: python\\n    - composer: draco\\n    - draco_use_full_file = True\\n    - _allowed_extensions: []\\n\\n-------------------------------------------------------------------------    \\n\\nresults_multi_python_multi_score.jsonl\\n    - languages: python\\n    - composer: multi_score\\n    - composers_list: [[\"chunk_score\", \"draco\"], [\"draco\", \"chunk_score\"]]\\n    - draco_use_full_file = True\\n    - chunker: fixed_line\\n    - scorer: bm25\\n    - splitter: word_splitter\\n    - chunk_lines_size = [8, 16, 32, 64, 128]\\n    - chunk_completion_file = True\\n    - completion_last_chunk_size = 32\\n    - _allowed_extensions: [\".md\", \".txt\", \".rst\"]\\n'"
      ]
     },
     "execution_count": 24,
     "metadata": {},
     "output_type": "execute_result"
    }
   ],
   "source": [
    "'''\n",
    "results_embed_full_file.jsonl\n",
    "    - languages: [python, kotlin]\n",
    "    - composer: chunk_score\n",
    "    - chunker: full_file\n",
    "    - scorer: dense\n",
    "    - splitter: None\n",
    "    - _allowed_extensions: [\".md\", \".txt\", \".rst\"]\n",
    "\n",
    "results_embed_full_file_only_py_python_chunk_score.jsonl\n",
    "    - languages: python\n",
    "    - composer: chunk_score\n",
    "    - chunker: full_file\n",
    "    - scorer: dense\n",
    "    - splitter: None\n",
    "    - _allowed_extensions: []\n",
    "\n",
    "results_embed_python_chunk_score.jsonl\n",
    "    - languages: python\n",
    "    - composer: chunk_score\n",
    "    - chunker: fixed_line\n",
    "    - scorer: dense\n",
    "    - splitter: None\n",
    "    - chunk_completion_file = True\n",
    "    - completion_last_chunk_size = [8, 16, 32, 64, 128]\n",
    "    - _allowed_extensions: [\".md\", \".txt\", \".rst\"]\n",
    "\n",
    "-------------------------------------------------------------------------    \n",
    "\n",
    "results_scorers_splitters1_python_chunk_score.jsonl\n",
    "    - languages: python\n",
    "    - composer: chunk_score\n",
    "    - chunker: full_file\n",
    "    - scorer: [bm25, iou]\n",
    "    - splitter: [word_splitter, line_splitter, word_tokenizer]\n",
    "    - _allowed_extensions: [\".md\", \".txt\", \".rst\"]\n",
    "\n",
    "results_scorers_splitters1_kotlin_chunk_score.jsonl\n",
    "    - languages: kotlin\n",
    "    - composer: chunk_score\n",
    "    - chunker: full_file\n",
    "    - scorer: [bm25, iou]\n",
    "    - splitter: [word_splitter, line_splitter, word_tokenizer]\n",
    "    - _allowed_extensions: [\".md\", \".txt\", \".rst\"]\n",
    "\n",
    "results_fixed_line.jsonl\n",
    "    - languages: [python, kotlin]\n",
    "    - composer: chunk_score\n",
    "    - chunker: fixed_line\n",
    "    - scorer: bm25\n",
    "    - splitter: word_splitter\n",
    "    - chunk_lines_size = [8, 16, 32, 64, 128]\n",
    "    - chunk_completion_file = [True, False]\n",
    "    - completion_last_chunk_size = 32\n",
    "    - _allowed_extensions: [\".md\", \".txt\", \".rst\"]\n",
    "\n",
    "results_langchain.jsonl\n",
    "    - languages: [python, kotlin]\n",
    "    - composer: chunk_score\n",
    "    - chunker: langchain\n",
    "    - scorer: bm25\n",
    "    - splitter: word_splitter\n",
    "    - chunk_lines_size = [8, 16, 32, 64, 128]\n",
    "    - chunk_completion_file = True\n",
    "    - completion_last_chunk_size = 32\n",
    "    - _allowed_extensions: [\".md\", \".txt\", \".rst\"]\n",
    "\n",
    "completion_last_chunk_size.jsonl\n",
    "    - languages: python\n",
    "    - composer: chunk_score\n",
    "    - chunker: fixed_line\n",
    "    - scorer: bm25\n",
    "    - splitter: word_splitter\n",
    "    - chunk_lines_size = [8, 16, 32, 64, 128]\n",
    "    - chunk_completion_file = True\n",
    "    - completion_last_chunk_size = [8, 16, 32, 64, 128]\n",
    "    - _allowed_extensions: [\".md\", \".txt\", \".rst\"]\n",
    "\n",
    "results_chunk_completion_file_only_py_python_chunk_score.jsonl\n",
    "    - languages: python\n",
    "    - composer: chunk_score\n",
    "    - chunker: fixed_line\n",
    "    - scorer: bm25\n",
    "    - splitter: word_splitter\n",
    "    - chunk_lines_size = [8, 16, 32, 64, 128]\n",
    "    - chunk_completion_file = True\n",
    "    - completion_last_chunk_size = [8, 16, 32, 64, 128]\n",
    "    - _allowed_extensions: []\n",
    "\n",
    "-------------------------------------------------------------------------    \n",
    "\n",
    "results_py_modules_python_draco.jsonl\n",
    "    - languages: python\n",
    "    - composer: draco\n",
    "    - draco_use_full_file = False\n",
    "    - _allowed_extensions: []\n",
    "    \n",
    "results_py_full_file_python_draco.jsonl\n",
    "    - languages: python\n",
    "    - composer: draco\n",
    "    - draco_use_full_file = True\n",
    "    - _allowed_extensions: []\n",
    "\n",
    "-------------------------------------------------------------------------    \n",
    "\n",
    "results_multi_python_multi_score.jsonl\n",
    "    - languages: python\n",
    "    - composer: multi_score\n",
    "    - composers_list: [[\"chunk_score\", \"draco\"], [\"draco\", \"chunk_score\"]]\n",
    "    - draco_use_full_file = True\n",
    "    - chunker: fixed_line\n",
    "    - scorer: bm25\n",
    "    - splitter: word_splitter\n",
    "    - chunk_lines_size = [8, 16, 32, 64, 128]\n",
    "    - chunk_completion_file = True\n",
    "    - completion_last_chunk_size = 32\n",
    "    - _allowed_extensions: [\".md\", \".txt\", \".rst\"]\n",
    "'''"
   ]
  },
  {
   "cell_type": "code",
   "execution_count": 25,
   "metadata": {},
   "outputs": [],
   "source": [
    "df = merge_df(base_path, paths_list)\n",
    "\n",
    "# Drop all columns for which we don't want aggregation\n",
    "group_columns = get_group_columns(df)\n",
    "\n",
    "results = read_results(df, group_columns)"
   ]
  },
  {
   "cell_type": "code",
   "execution_count": 26,
   "metadata": {},
   "outputs": [],
   "source": [
    "df_only_py = merge_df(base_path, paths_list_only_py)\n",
    "\n",
    "# Drop all columns for which we don't want aggregation\n",
    "group_columns_only_py = get_group_columns(df_only_py)\n",
    "\n",
    "results_only_py = read_results(df_only_py, group_columns_only_py)"
   ]
  },
  {
   "cell_type": "markdown",
   "metadata": {},
   "source": [
    "# Analyse chunk_score"
   ]
  },
  {
   "cell_type": "markdown",
   "metadata": {},
   "source": [
    "## _allowed_extensions: [\".md\", \".txt\", \".rst\"]"
   ]
  },
  {
   "cell_type": "markdown",
   "metadata": {},
   "source": [
    "### Analyze scorers and splitters\n",
    "\n",
    "chunk_score:\n",
    "- chunker: full_file\n",
    "- scorer: iou/bm25/dense\n",
    "- splitter: line_splitter/word_splitter/model_tokenizer"
   ]
  },
  {
   "cell_type": "code",
   "execution_count": 27,
   "metadata": {},
   "outputs": [],
   "source": [
    "full_file_results_without_embeds = results[(results[\"composer\"] == \"chunk_score\") & (results[\"chunker\"] == \"full_file\") & (results[\"scorer\"] != \"dense\")]\n",
    "full_file_results_with_embeds = results[(results[\"composer\"] == \"chunk_score\") & (results[\"chunker\"] == \"full_file\")]"
   ]
  },
  {
   "cell_type": "markdown",
   "metadata": {},
   "source": [
    "#### Analyse scorers for each splitter"
   ]
  },
  {
   "cell_type": "code",
   "execution_count": 28,
   "metadata": {},
   "outputs": [],
   "source": [
    "# plot_params = {\n",
    "#     'plot_by': 'scorer',\n",
    "# }\n",
    "# make_interaction(results=full_file_results, \n",
    "#                  group_columns=group_columns, \n",
    "#                  dropdown=plot_dropdown, \n",
    "#                  plot_params=plot_params,\n",
    "#                  metrics=['em', 'is_prefix', 'prefix_ratio'],\n",
    "#                  delete_columns=[\"embed_model\"],\n",
    "#                  )"
   ]
  },
  {
   "cell_type": "code",
   "execution_count": 29,
   "metadata": {},
   "outputs": [
    {
     "data": {
      "application/vnd.jupyter.widget-view+json": {
       "model_id": "355a86c1587d4bb3b4dba8ba21d9c02e",
       "version_major": 2,
       "version_minor": 0
      },
      "text/plain": [
       "interactive(children=(Dropdown(description='category', options=('infile', 'inproject'), value='infile'), Dropd…"
      ]
     },
     "metadata": {},
     "output_type": "display_data"
    }
   ],
   "source": [
    "dropdown_params = {\n",
    "    'plot_by': 'scorer',\n",
    "    'group_by': 'splitter',\n",
    "    'metric' : ['em', 'is_prefix', 'prefix_ratio']\n",
    "}\n",
    "\n",
    "plot_params = {\n",
    "    'title': 'Full file chunker',\n",
    "    # 'name_by': ['chunker', 'scorer']\n",
    "}\n",
    "\n",
    "make_interaction(results=full_file_results_without_embeds, \n",
    "                 group_columns=group_columns, \n",
    "                 dropdown=plot_dropdown_with_group_by,\n",
    "                 dropdown_params=dropdown_params,\n",
    "                 plot_params=plot_params,\n",
    "                 delete_columns=[\"embed_model\"],\n",
    "                 )"
   ]
  },
  {
   "cell_type": "markdown",
   "metadata": {},
   "source": [
    "#### Analyse scorers for each splitter DENSE"
   ]
  },
  {
   "cell_type": "code",
   "execution_count": 30,
   "metadata": {},
   "outputs": [
    {
     "data": {
      "application/vnd.jupyter.widget-view+json": {
       "model_id": "9020cf425768459dbbf794ecc73e0e06",
       "version_major": 2,
       "version_minor": 0
      },
      "text/plain": [
       "interactive(children=(Dropdown(description='category', options=('infile', 'inproject'), value='infile'), Dropd…"
      ]
     },
     "metadata": {},
     "output_type": "display_data"
    }
   ],
   "source": [
    "dropdown_params = {\n",
    "    'plot_by': 'scorer',\n",
    "    'group_by': 'splitter',\n",
    "    'metric' : ['em', 'is_prefix', 'prefix_ratio']\n",
    "}\n",
    "\n",
    "plot_params = {\n",
    "    'title': 'Full file chunker',\n",
    "}\n",
    "\n",
    "make_interaction(results=full_file_results_with_embeds, \n",
    "                 group_columns=group_columns, \n",
    "                 dropdown=plot_dropdown_with_group_by,\n",
    "                 dropdown_params=dropdown_params,\n",
    "                 plot_params=plot_params,\n",
    "                 delete_columns=[\"embed_model\"],\n",
    "                 )"
   ]
  },
  {
   "cell_type": "markdown",
   "metadata": {},
   "source": [
    "#### Analyse splitters for each scorer"
   ]
  },
  {
   "cell_type": "code",
   "execution_count": 31,
   "metadata": {},
   "outputs": [
    {
     "data": {
      "application/vnd.jupyter.widget-view+json": {
       "model_id": "1649bd629267415fb0e1149922294cb5",
       "version_major": 2,
       "version_minor": 0
      },
      "text/plain": [
       "interactive(children=(Dropdown(description='category', options=('infile', 'inproject'), value='infile'), Dropd…"
      ]
     },
     "metadata": {},
     "output_type": "display_data"
    }
   ],
   "source": [
    "dropdown_params = {\n",
    "    'plot_by': 'splitter',\n",
    "    'group_by': 'scorer',\n",
    "    'metric' : ['em', 'is_prefix', 'prefix_ratio']\n",
    "}\n",
    "\n",
    "plot_params = {\n",
    "    'title': 'Full file chunker',\n",
    "}\n",
    "\n",
    "make_interaction(results=full_file_results_without_embeds, \n",
    "                 group_columns=group_columns, \n",
    "                 dropdown=plot_dropdown_with_group_by,\n",
    "                 dropdown_params=dropdown_params,\n",
    "                 plot_params=plot_params,\n",
    "                 delete_columns=[\"embed_model\"],\n",
    "                 )"
   ]
  },
  {
   "cell_type": "markdown",
   "metadata": {},
   "source": [
    "### Analyse chunk_completion_file\n",
    "\n",
    "chunk_score:\n",
    "- chunker: fixed_line\n",
    "- scorer: bm25\n",
    "- splitter: word_splitter\n",
    "- chunk_lines_size = [8, 16, 32, 64, 128]\n",
    "- chunk_completion_file = [True, False]\n",
    "- completion_last_chunk_size = 32"
   ]
  },
  {
   "cell_type": "code",
   "execution_count": 32,
   "metadata": {},
   "outputs": [
    {
     "name": "stderr",
     "output_type": "stream",
     "text": [
      "/tmp/ipykernel_950014/2281141912.py:5: SettingWithCopyWarning: \n",
      "A value is trying to be set on a copy of a slice from a DataFrame\n",
      "\n",
      "See the caveats in the documentation: https://pandas.pydata.org/pandas-docs/stable/user_guide/indexing.html#returning-a-view-versus-a-copy\n",
      "  chunk_completion_file_results.drop_duplicates(subset=drop_duplicates_columns, inplace=True)\n"
     ]
    }
   ],
   "source": [
    "chunk_completion_file_results = results[(results[\"composer\"] == \"chunk_score\") & (results[\"chunker\"] == \"fixed_line\") & (results[\"completion_last_chunk_size\"] == 32) & (results[\"scorer\"] != \"dense\")]\n",
    "\n",
    "list_columns = [col for col in chunk_completion_file_results.columns if isinstance(chunk_completion_file_results[col].iloc[0], list)]\n",
    "drop_duplicates_columns = [col for col in chunk_completion_file_results.columns if col not in list_columns]\n",
    "chunk_completion_file_results.drop_duplicates(subset=drop_duplicates_columns, inplace=True)"
   ]
  },
  {
   "cell_type": "code",
   "execution_count": 33,
   "metadata": {},
   "outputs": [
    {
     "data": {
      "application/vnd.jupyter.widget-view+json": {
       "model_id": "da1fe639295f4463be67e067658ffc1e",
       "version_major": 2,
       "version_minor": 0
      },
      "text/plain": [
       "interactive(children=(Dropdown(description='category', options=('infile', 'inproject'), value='infile'), Dropd…"
      ]
     },
     "metadata": {},
     "output_type": "display_data"
    }
   ],
   "source": [
    "dropdown_params = {\n",
    "    'plot_by': 'chunk_lines_size',\n",
    "    'group_by': 'chunk_completion_file',\n",
    "    'metric' : ['em', 'is_prefix', 'prefix_ratio']\n",
    "}\n",
    "\n",
    "plot_params = {\n",
    "    'title': 'Full file chunker',\n",
    "}\n",
    "\n",
    "make_interaction(results=chunk_completion_file_results, \n",
    "                 group_columns=group_columns, \n",
    "                 dropdown=plot_dropdown_with_group_by,\n",
    "                 dropdown_params=dropdown_params,\n",
    "                 plot_params=plot_params,\n",
    "                 delete_columns=[\"embed_model\"],\n",
    "                 )"
   ]
  },
  {
   "cell_type": "markdown",
   "metadata": {},
   "source": [
    "### Analyse completion_last_chunk_size\n",
    "\n",
    "chunk_score:\n",
    "- chunker: fixed_line\n",
    "- scorer: [bm25, dense]\n",
    "- splitter: [word_splitter, None]\n",
    "- chunk_lines_size = [8, 16, 32, 64, 128]\n",
    "- chunk_completion_file = True\n",
    "- completion_last_chunk_size = [8, 16, 32, 64, 128]\n"
   ]
  },
  {
   "cell_type": "code",
   "execution_count": 44,
   "metadata": {},
   "outputs": [
    {
     "name": "stderr",
     "output_type": "stream",
     "text": [
      "/tmp/ipykernel_950014/1684617761.py:5: SettingWithCopyWarning: \n",
      "A value is trying to be set on a copy of a slice from a DataFrame\n",
      "\n",
      "See the caveats in the documentation: https://pandas.pydata.org/pandas-docs/stable/user_guide/indexing.html#returning-a-view-versus-a-copy\n",
      "  completion_last_chunk_size_file_results.drop_duplicates(subset=drop_duplicates_columns, inplace=True)\n"
     ]
    }
   ],
   "source": [
    "completion_last_chunk_size_file_results = results[(results[\"language\"] == \"python\") & (results[\"composer\"] == \"chunk_score\") & (results[\"chunker\"] == \"fixed_line\") & (results[\"chunk_completion_file\"] == True)]\n",
    "\n",
    "list_columns = [col for col in completion_last_chunk_size_file_results.columns if isinstance(completion_last_chunk_size_file_results[col].iloc[0], list)] + ['embed_model']\n",
    "drop_duplicates_columns = [col for col in completion_last_chunk_size_file_results.columns if col not in list_columns]\n",
    "completion_last_chunk_size_file_results.drop_duplicates(subset=drop_duplicates_columns, inplace=True)"
   ]
  },
  {
   "cell_type": "code",
   "execution_count": null,
   "metadata": {},
   "outputs": [
    {
     "data": {
      "application/vnd.jupyter.widget-view+json": {
       "model_id": "71f82d3555bc487486776ed114782ffe",
       "version_major": 2,
       "version_minor": 0
      },
      "text/plain": [
       "interactive(children=(Dropdown(description='category', options=('infile', 'inproject'), value='infile'), Dropd…"
      ]
     },
     "metadata": {},
     "output_type": "display_data"
    }
   ],
   "source": [
    "dropdown_params = {\n",
    "    'plot_by': 'chunk_lines_size',\n",
    "    'group_by': 'completion_last_chunk_size',\n",
    "    'metric' : ['em', 'is_prefix', 'prefix_ratio']\n",
    "}\n",
    "\n",
    "plot_params = {\n",
    "    'title': 'Full file chunker',\n",
    "}\n",
    "\n",
    "make_interaction(results=completion_last_chunk_size_file_results, \n",
    "                 group_columns=group_columns, \n",
    "                 dropdown=plot_dropdown_with_group_by,\n",
    "                 dropdown_params=dropdown_params,\n",
    "                 plot_params=plot_params,\n",
    "                 delete_columns=[\"embed_model\"],\n",
    "                 )"
   ]
  },
  {
   "cell_type": "markdown",
   "metadata": {},
   "source": [
    "### Analyse chunkers\n",
    "\n",
    "chunk_score:\n",
    "- chunker: full_file/fixed_line/langchain\n",
    "- scorer: bm25\n",
    "- splitter: word_splitter\n",
    "\n",
    "setup only for fixed_line/langchain:\n",
    "- chunk_lines_size = [8, 16, 32, 64, 128]\n",
    "- chunk_completion_file = True\n",
    "- completion_last_chunk_size = 32"
   ]
  },
  {
   "cell_type": "code",
   "execution_count": 5,
   "metadata": {},
   "outputs": [
    {
     "name": "stderr",
     "output_type": "stream",
     "text": [
      "/tmp/ipykernel_950014/3316344337.py:6: SettingWithCopyWarning: \n",
      "A value is trying to be set on a copy of a slice from a DataFrame.\n",
      "Try using .loc[row_indexer,col_indexer] = value instead\n",
      "\n",
      "See the caveats in the documentation: https://pandas.pydata.org/pandas-docs/stable/user_guide/indexing.html#returning-a-view-versus-a-copy\n",
      "  bm25_word_splitter_results[\"chunker\"] = bm25_word_splitter_results[\"chunker\"].apply(lambda x: \" full_file\" if x == \"full_file\" else x)\n"
     ]
    }
   ],
   "source": [
    "bm25_word_splitter_results = results[(results[\"composer\"] == \"chunk_score\")\n",
    "                                     & (results[\"scorer\"] == \"bm25\") \n",
    "                                     & (results[\"splitter\"] == \"word_splitter\") \n",
    "                                     & (results[\"chunk_completion_file\"] == True)]\n",
    "\n",
    "bm25_word_splitter_results[\"chunker\"] = bm25_word_splitter_results[\"chunker\"].apply(lambda x: \" full_file\" if x == \"full_file\" else x)\n",
    "\n",
    "fixed_line_results = bm25_word_splitter_results[(bm25_word_splitter_results[\"chunker\"] == \" full_file\") | (bm25_word_splitter_results[\"chunker\"] == \"fixed_line\")]\n",
    "langchain_results = bm25_word_splitter_results[(bm25_word_splitter_results[\"chunker\"] == \" full_file\") | (bm25_word_splitter_results[\"chunker\"] == \"langchain\")]"
   ]
  },
  {
   "cell_type": "markdown",
   "metadata": {},
   "source": [
    "#### Full_file VS Fixed_Line"
   ]
  },
  {
   "cell_type": "code",
   "execution_count": 6,
   "metadata": {},
   "outputs": [
    {
     "data": {
      "application/vnd.jupyter.widget-view+json": {
       "model_id": "dee6655267f7458da7d618e6b38e3e8e",
       "version_major": 2,
       "version_minor": 0
      },
      "text/plain": [
       "interactive(children=(Dropdown(description='category', options=('infile', 'inproject'), value='infile'), Dropd…"
      ]
     },
     "metadata": {},
     "output_type": "display_data"
    }
   ],
   "source": [
    "dropdown_params = {\n",
    "    'plot_by': 'chunk_lines_size',\n",
    "    'metric' : ['em', 'is_prefix', 'prefix_ratio']\n",
    "}\n",
    "\n",
    "plot_params = {\n",
    "    'title': 'Full file chunker',\n",
    "    'name_by': ['chunker', 'chunk_lines_size']\n",
    "}\n",
    "\n",
    "make_interaction(results=fixed_line_results, \n",
    "                 group_columns=group_columns, \n",
    "                 dropdown=plot_dropdown,\n",
    "                 dropdown_params=dropdown_params,\n",
    "                 plot_params=plot_params,\n",
    "                 delete_columns=[\"embed_model\", \"chunker\"],\n",
    "                 )"
   ]
  },
  {
   "cell_type": "markdown",
   "metadata": {},
   "source": [
    "#### Full_file VS Langchain"
   ]
  },
  {
   "cell_type": "code",
   "execution_count": 7,
   "metadata": {},
   "outputs": [
    {
     "data": {
      "application/vnd.jupyter.widget-view+json": {
       "model_id": "aef34b4b323740ce8864414c3d96e490",
       "version_major": 2,
       "version_minor": 0
      },
      "text/plain": [
       "interactive(children=(Dropdown(description='category', options=('infile', 'inproject'), value='infile'), Dropd…"
      ]
     },
     "metadata": {},
     "output_type": "display_data"
    }
   ],
   "source": [
    "dropdown_params = {\n",
    "    'plot_by': 'chunk_lines_size',\n",
    "    'metric' : ['em', 'is_prefix', 'prefix_ratio']\n",
    "}\n",
    "\n",
    "plot_params = {\n",
    "    'title': 'Full file chunker',\n",
    "    'name_by': ['chunker', 'chunk_lines_size']\n",
    "}\n",
    "\n",
    "make_interaction(results=langchain_results, \n",
    "                 group_columns=group_columns, \n",
    "                 dropdown=plot_dropdown,\n",
    "                 dropdown_params=dropdown_params,\n",
    "                 plot_params=plot_params,\n",
    "                 delete_columns=[\"embed_model\", \"chunker\"],\n",
    "                 )"
   ]
  },
  {
   "cell_type": "markdown",
   "metadata": {},
   "source": [
    "## _allowed_extensions: [] ONLY_PY"
   ]
  },
  {
   "cell_type": "markdown",
   "metadata": {},
   "source": [
    "### Analyse completion_last_chunk_size\n",
    "\n",
    "chunk_score:\n",
    "- chunker: fixed_line\n",
    "- scorer: bm25\n",
    "- splitter: word_splitter\n",
    "- chunk_lines_size = [8, 16, 32, 64, 128]\n",
    "- chunk_completion_file = True\n",
    "- completion_last_chunk_size = [8, 16, 32, 64, 128]\n"
   ]
  },
  {
   "cell_type": "code",
   "execution_count": null,
   "metadata": {},
   "outputs": [
    {
     "data": {
      "application/vnd.jupyter.widget-view+json": {
       "model_id": "76ea058caf294c8f8738bd0f6323503f",
       "version_major": 2,
       "version_minor": 0
      },
      "text/plain": [
       "interactive(children=(Dropdown(description='category', options=('infile', 'inproject'), value='infile'), Text(…"
      ]
     },
     "metadata": {},
     "output_type": "display_data"
    }
   ],
   "source": [
    "dropdown_params = {\n",
    "    'plot_by': 'chunk_lines_size',\n",
    "    'group_by': 'completion_last_chunk_size',\n",
    "    'metric' : ['em', 'is_prefix', 'prefix_ratio']\n",
    "}\n",
    "\n",
    "plot_params = {\n",
    "    'title': 'Full file chunker',\n",
    "}\n",
    "\n",
    "make_interaction(results=results_only_py, \n",
    "                 group_columns=group_columns, \n",
    "                 dropdown=plot_dropdown_with_group_by,\n",
    "                 dropdown_params=dropdown_params,\n",
    "                 plot_params=plot_params,\n",
    "                 delete_columns=[\"embed_model\"],\n",
    "                 )"
   ]
  },
  {
   "cell_type": "markdown",
   "metadata": {},
   "source": [
    "# Analyze draco"
   ]
  },
  {
   "cell_type": "code",
   "execution_count": 8,
   "metadata": {},
   "outputs": [
    {
     "name": "stderr",
     "output_type": "stream",
     "text": [
      "/tmp/ipykernel_950014/1840934786.py:2: SettingWithCopyWarning: \n",
      "A value is trying to be set on a copy of a slice from a DataFrame.\n",
      "Try using .loc[row_indexer,col_indexer] = value instead\n",
      "\n",
      "See the caveats in the documentation: https://pandas.pydata.org/pandas-docs/stable/user_guide/indexing.html#returning-a-view-versus-a-copy\n",
      "  draco_results['draco_use_full_file'] = [False, False, True, True]\n"
     ]
    }
   ],
   "source": [
    "draco_results = results[(results[\"composer\"] == \"draco\")]\n",
    "draco_results['draco_use_full_file'] = [False, False, True, True]"
   ]
  },
  {
   "cell_type": "code",
   "execution_count": 9,
   "metadata": {},
   "outputs": [
    {
     "data": {
      "application/vnd.jupyter.widget-view+json": {
       "model_id": "1cbc5ae332944f2cb214e21d747b9284",
       "version_major": 2,
       "version_minor": 0
      },
      "text/plain": [
       "interactive(children=(Dropdown(description='category', options=('infile', 'inproject'), value='infile'), Text(…"
      ]
     },
     "metadata": {},
     "output_type": "display_data"
    }
   ],
   "source": [
    "dropdown_params = {\n",
    "    'plot_by': 'draco_use_full_file',\n",
    "    'metric' : ['em', 'is_prefix', 'prefix_ratio']\n",
    "}\n",
    "\n",
    "plot_params = {\n",
    "    'title': 'Full file chunker',\n",
    "}\n",
    "\n",
    "make_interaction(results=draco_results, \n",
    "                 group_columns=group_columns, \n",
    "                 dropdown=plot_dropdown,\n",
    "                 dropdown_params=dropdown_params,\n",
    "                 plot_params=plot_params,\n",
    "                 delete_columns=[\"embed_model\", \"chunker\"],\n",
    "                 )"
   ]
  },
  {
   "cell_type": "markdown",
   "metadata": {},
   "source": [
    "# Analyze multi_score\n",
    "\n",
    "- draco_use_full_file: True"
   ]
  },
  {
   "cell_type": "code",
   "execution_count": 10,
   "metadata": {},
   "outputs": [],
   "source": [
    "multi_results = results[(results[\"composer\"].str.contains(\"multi\"))]"
   ]
  },
  {
   "cell_type": "code",
   "execution_count": 11,
   "metadata": {},
   "outputs": [
    {
     "data": {
      "application/vnd.jupyter.widget-view+json": {
       "model_id": "18f69494f06140efa60027ad835cac7d",
       "version_major": 2,
       "version_minor": 0
      },
      "text/plain": [
       "interactive(children=(Dropdown(description='category', options=('infile', 'inproject'), value='infile'), Text(…"
      ]
     },
     "metadata": {},
     "output_type": "display_data"
    }
   ],
   "source": [
    "dropdown_params = {\n",
    "    'plot_by': 'chunker',\n",
    "    'group_by': \"composer\",\n",
    "    'metric' : ['em', 'is_prefix', 'prefix_ratio']\n",
    "}\n",
    "\n",
    "plot_params = {\n",
    "    'title': 'Full file chunker',\n",
    "}\n",
    "\n",
    "make_interaction(results=multi_results, \n",
    "                 group_columns=group_columns, \n",
    "                 dropdown=plot_dropdown_with_group_by,\n",
    "                 dropdown_params=dropdown_params,\n",
    "                 plot_params=plot_params,\n",
    "                 delete_columns=[\"embed_model\"],\n",
    "                 )"
   ]
  },
  {
   "cell_type": "markdown",
   "metadata": {},
   "source": [
    "# Analyse multi_score vs chunk_score"
   ]
  },
  {
   "cell_type": "code",
   "execution_count": 15,
   "metadata": {},
   "outputs": [
    {
     "name": "stderr",
     "output_type": "stream",
     "text": [
      "/tmp/ipykernel_950014/32204103.py:11: SettingWithCopyWarning: \n",
      "A value is trying to be set on a copy of a slice from a DataFrame.\n",
      "Try using .loc[row_indexer,col_indexer] = value instead\n",
      "\n",
      "See the caveats in the documentation: https://pandas.pydata.org/pandas-docs/stable/user_guide/indexing.html#returning-a-view-versus-a-copy\n",
      "  multi_results[\"composer\"] = multi_results[\"composer\"].apply(lambda x: ' multi')\n"
     ]
    }
   ],
   "source": [
    "bm25_word_splitter_results = results[(results[\"language\"] == \"python\") \n",
    "                                     & (results[\"composer\"] == \"chunk_score\")\n",
    "                                     & (results[\"scorer\"] == \"bm25\") \n",
    "                                     & (results[\"splitter\"] == \"word_splitter\") \n",
    "                                     & (results[\"chunk_completion_file\"] == True)]\n",
    "\n",
    "# bm25_word_splitter_results[\"chunker\"] = bm25_word_splitter_results[\"chunker\"].apply(lambda x: \" full_file\" if x == \"full_file\" else x)\n",
    "fixed_line_results = bm25_word_splitter_results[(bm25_word_splitter_results[\"chunker\"] == \"fixed_line\")]\n",
    "\n",
    "multi_results = results[(results[\"composer\"] == \"multi_score: ['draco', 'chunk_score']\") & (results[\"chunker\"] == \"fixed_line\")]\n",
    "multi_results[\"composer\"] = multi_results[\"composer\"].apply(lambda x: ' multi')\n",
    "\n",
    "fixed_line_vs_multi_results = pd.concat([fixed_line_results, multi_results])"
   ]
  },
  {
   "cell_type": "code",
   "execution_count": 17,
   "metadata": {},
   "outputs": [
    {
     "data": {
      "application/vnd.jupyter.widget-view+json": {
       "model_id": "9864f7d70ea64c25b6fdb751abe0380b",
       "version_major": 2,
       "version_minor": 0
      },
      "text/plain": [
       "interactive(children=(Dropdown(description='category', options=('infile', 'inproject'), value='infile'), Text(…"
      ]
     },
     "metadata": {},
     "output_type": "display_data"
    }
   ],
   "source": [
    "dropdown_params = {\n",
    "    'plot_by': 'chunk_lines_size',\n",
    "    'metric' : ['em', 'is_prefix', 'prefix_ratio']\n",
    "}\n",
    "\n",
    "plot_params = {\n",
    "    'title': 'Full file chunker',\n",
    "    'name_by': ['composer', 'chunk_lines_size']\n",
    "}\n",
    "\n",
    "make_interaction(results=fixed_line_vs_multi_results, \n",
    "                 group_columns=group_columns, \n",
    "                 dropdown=plot_dropdown,\n",
    "                 dropdown_params=dropdown_params,\n",
    "                 plot_params=plot_params,\n",
    "                 delete_columns=[\"embed_model\", \"composer\"],\n",
    "                 )"
   ]
  }
 ],
 "metadata": {
  "kernelspec": {
   "display_name": "chunk_exp2",
   "language": "python",
   "name": "python3"
  },
  "language_info": {
   "codemirror_mode": {
    "name": "ipython",
    "version": 3
   },
   "file_extension": ".py",
   "mimetype": "text/x-python",
   "name": "python",
   "nbconvert_exporter": "python",
   "pygments_lexer": "ipython3",
   "version": "3.10.12"
  }
 },
 "nbformat": 4,
 "nbformat_minor": 2
}
