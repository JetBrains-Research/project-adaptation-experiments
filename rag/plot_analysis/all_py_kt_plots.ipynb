{
 "cells": [
  {
   "cell_type": "markdown",
   "metadata": {},
   "source": [
    "prefix_ratio = len(prefix) / min(pred, gt) \n",
    "\n",
    "is_prefix = is_prefix(pred, gt) | is_prefix(gt, pred)"
   ]
  },
  {
   "cell_type": "code",
   "execution_count": 1,
   "metadata": {},
   "outputs": [],
   "source": [
    "import pandas as pd\n",
    "import matplotlib.pyplot as plt\n",
    "from io import StringIO\n",
    "from ipywidgets import interact, widgets\n",
    "from xlwings.utils import chunk\n",
    "import numpy as np\n",
    "\n",
    "from plotter import read_results, get_group_columns, filter_target_columns, plot_dropdown, plot_dropdown_with_group_by, make_interaction\n",
    "\n",
    "%matplotlib inline"
   ]
  },
  {
   "cell_type": "code",
   "execution_count": 2,
   "metadata": {},
   "outputs": [],
   "source": [
    "from pathlib import Path\n",
    "base_path = Path(\"/mnt/data/kolomyttseva/long-contex-eval/output/rag_results/python_kotlin/chunk_score\")\n",
    "\n",
    "# full_file_path = base_path / \"full_file\"\n",
    "# fixed_line_path = base_path / \"fixed_line\"\n",
    "# langchain_path = base_path / \"langchain\"\n",
    "\n",
    "paths_list = [\n",
    "    \"results_embed_full_file.jsonl\",\n",
    "    \"results_fixed_line.jsonl\",\n",
    "    \"results_langchain.jsonl\",\n",
    "    # \"results_scorers_splitters.jsonl\"\n",
    "]"
   ]
  },
  {
   "cell_type": "code",
   "execution_count": 3,
   "metadata": {},
   "outputs": [],
   "source": [
    "def merge_df(base_path, paths_list: list[str]):\n",
    "    dataframes = []\n",
    "    for path in paths_list:\n",
    "        full_path = base_path / path\n",
    "        if not Path(full_path).exists():\n",
    "            raise FileNotFoundError(f\"Path {full_path} does not exist\")\n",
    "        df = pd.read_json(full_path, orient=\"records\", lines=True)\n",
    "        dataframes.append(df)\n",
    "    final_dataframe = pd.concat(dataframes, ignore_index=True)\n",
    "    return final_dataframe"
   ]
  },
  {
   "cell_type": "code",
   "execution_count": 4,
   "metadata": {},
   "outputs": [],
   "source": [
    "df = merge_df(base_path, paths_list)\n",
    "\n",
    "# Drop all columns for which we don't want aggregation\n",
    "group_columns = get_group_columns(df)\n",
    "\n",
    "results = read_results(df, group_columns)"
   ]
  },
  {
   "cell_type": "code",
   "execution_count": 5,
   "metadata": {},
   "outputs": [
    {
     "data": {
      "text/plain": [
       "'\\nfixed_line:\\n    - chunk_completion_file.jsonl\\n        - scorer: bm25\\n        - splitter: word_splitter\\n        - chunk_lines_size = [8, 16, 32, 64, 128]\\n        - chunk_completion_file = [True, False]\\n        - completion_last_chunk_size = 32\\n    - completion_last_chunk_size.jsonl\\n        - scorer: bm25\\n        - splitter: word_splitter\\n        - chunk_lines_size = [8, 16, 32, 64, 128]\\n        - chunk_completion_file = True\\n        - completion_last_chunk_size = [8, 16, 32, 64, 128]\\n\\nfull_file:\\n    - bm25_word_splitter.jsonl\\n        - scorer: bm25\\n        - splitter: word_splitter\\n    - dense_scorer_word_splitter.jsonl\\n        - scorer: dense\\n        - splitter: word_splitter\\n    - scorers_splitters.jsonl\\n        - scorer: iou/bm25\\n        - splitter: line_splitter/word_splitter/model_tokenizer\\n\\nlangchain:\\n    - langchain.jsonl\\n        - scorer: bm25\\n        - splitter: word_splitter\\n        - chunk_lines_size = [8, 16, 32, 64, 128]\\n        - chunk_completion_file = True\\n        - completion_last_chunk_size = 32\\n'"
      ]
     },
     "execution_count": 5,
     "metadata": {},
     "output_type": "execute_result"
    }
   ],
   "source": [
    "# from pathlib import Path\n",
    "# base_path = Path(\"/mnt/data/kolomyttseva/long-contex-eval/output/rag_results/chunk_score\")\n",
    "\n",
    "# full_file_path = base_path / \"full_file\"\n",
    "# fixed_line_path = base_path / \"fixed_line\"\n",
    "# langchain_path = base_path / \"langchain\"\n",
    "\n",
    "'''\n",
    "fixed_line:\n",
    "    - chunk_completion_file.jsonl\n",
    "        - scorer: bm25\n",
    "        - splitter: word_splitter\n",
    "        - chunk_lines_size = [8, 16, 32, 64, 128]\n",
    "        - chunk_completion_file = [True, False]\n",
    "        - completion_last_chunk_size = 32\n",
    "    - completion_last_chunk_size.jsonl\n",
    "        - scorer: bm25\n",
    "        - splitter: word_splitter\n",
    "        - chunk_lines_size = [8, 16, 32, 64, 128]\n",
    "        - chunk_completion_file = True\n",
    "        - completion_last_chunk_size = [8, 16, 32, 64, 128]\n",
    "\n",
    "full_file:\n",
    "    - bm25_word_splitter.jsonl\n",
    "        - scorer: bm25\n",
    "        - splitter: word_splitter\n",
    "    - dense_scorer_word_splitter.jsonl\n",
    "        - scorer: dense\n",
    "        - splitter: word_splitter\n",
    "    - scorers_splitters.jsonl\n",
    "        - scorer: iou/bm25\n",
    "        - splitter: line_splitter/word_splitter/model_tokenizer\n",
    "\n",
    "langchain:\n",
    "    - langchain.jsonl\n",
    "        - scorer: bm25\n",
    "        - splitter: word_splitter\n",
    "        - chunk_lines_size = [8, 16, 32, 64, 128]\n",
    "        - chunk_completion_file = True\n",
    "        - completion_last_chunk_size = 32\n",
    "'''"
   ]
  },
  {
   "cell_type": "markdown",
   "metadata": {},
   "source": [
    "### Analyze scorers and splitters\n",
    "\n",
    "chunk_score:\n",
    "- chunker: full_file\n",
    "- scorer: iou/bm25/dense\n",
    "- splitter: line_splitter/word_splitter/model_tokenizer"
   ]
  },
  {
   "cell_type": "code",
   "execution_count": 6,
   "metadata": {},
   "outputs": [],
   "source": [
    "full_file_results = results[results[\"chunker\"] == \"full_file\"]"
   ]
  },
  {
   "cell_type": "markdown",
   "metadata": {},
   "source": [
    "#### Analyse scorers for each splitter"
   ]
  },
  {
   "cell_type": "code",
   "execution_count": null,
   "metadata": {},
   "outputs": [
    {
     "data": {
      "application/vnd.jupyter.widget-view+json": {
       "model_id": "ec707a7ee01943db8a9052cb6e569503",
       "version_major": 2,
       "version_minor": 0
      },
      "text/plain": [
       "interactive(children=(Text(value='scorer', description='plot_by'), Dropdown(description='metric', options=('em…"
      ]
     },
     "metadata": {},
     "output_type": "display_data"
    }
   ],
   "source": [
    "plot_params = {\n",
    "    'plot_by': 'scorer',\n",
    "}\n",
    "make_interaction(results=full_file_results, \n",
    "                 group_columns=group_columns, \n",
    "                 dropdown=plot_dropdown, \n",
    "                 plot_params=plot_params,\n",
    "                 metrics=['em', 'is_prefix', 'prefix_ratio'],\n",
    "                 delete_columns=[\"embed_model\"],\n",
    "                 )"
   ]
  },
  {
   "cell_type": "code",
   "execution_count": null,
   "metadata": {},
   "outputs": [
    {
     "data": {
      "application/vnd.jupyter.widget-view+json": {
       "model_id": "2945f139345d48e9884bc4f143cf2444",
       "version_major": 2,
       "version_minor": 0
      },
      "text/plain": [
       "interactive(children=(Text(value='scorer', description='plot_by'), Text(value='splitter', description='group_b…"
      ]
     },
     "metadata": {},
     "output_type": "display_data"
    }
   ],
   "source": [
    "plot_params = {\n",
    "    'plot_by': 'scorer',\n",
    "    'group_by': 'splitter'\n",
    "\n",
    "}\n",
    "make_interaction(results=full_file_results, \n",
    "                 group_columns=group_columns, \n",
    "                 dropdown=plot_dropdown_with_group_by, \n",
    "                 plot_params=plot_params,\n",
    "                 metrics=['em', 'is_prefix', 'prefix_ratio'],\n",
    "                 delete_columns=[\"embed_model\"],\n",
    "                 )"
   ]
  },
  {
   "cell_type": "markdown",
   "metadata": {},
   "source": [
    "#### Analyse splitters for each scorer"
   ]
  },
  {
   "cell_type": "code",
   "execution_count": 10,
   "metadata": {},
   "outputs": [
    {
     "data": {
      "application/vnd.jupyter.widget-view+json": {
       "model_id": "5e643979de9e4bf8b450164e514f549c",
       "version_major": 2,
       "version_minor": 0
      },
      "text/plain": [
       "interactive(children=(Text(value='splitter', description='plot_by'), Dropdown(description='metric', options=('…"
      ]
     },
     "metadata": {},
     "output_type": "display_data"
    }
   ],
   "source": [
    "plot_params = {\n",
    "    'plot_by': 'splitter',\n",
    "}\n",
    "make_interaction(results=full_file_results, \n",
    "                 group_columns=group_columns, \n",
    "                 dropdown=plot_dropdown, \n",
    "                 plot_params=plot_params,\n",
    "                 metrics=['em', 'is_prefix', 'prefix_ratio'],\n",
    "                 delete_columns=[\"embed_model\"],\n",
    "                 )"
   ]
  },
  {
   "cell_type": "code",
   "execution_count": 11,
   "metadata": {},
   "outputs": [
    {
     "data": {
      "application/vnd.jupyter.widget-view+json": {
       "model_id": "a6cfc1285a5746fe90f9a2ae5b087a52",
       "version_major": 2,
       "version_minor": 0
      },
      "text/plain": [
       "interactive(children=(Text(value='splitter', description='plot_by'), Text(value='scorer', description='group_b…"
      ]
     },
     "metadata": {},
     "output_type": "display_data"
    }
   ],
   "source": [
    "plot_params = {\n",
    "    'plot_by': 'splitter',\n",
    "    'group_by': 'scorer'\n",
    "}\n",
    "make_interaction(results=full_file_results, \n",
    "                 group_columns=group_columns, \n",
    "                 dropdown=plot_dropdown_with_group_by, \n",
    "                 plot_params=plot_params,\n",
    "                 metrics=['em', 'is_prefix', 'prefix_ratio'],\n",
    "                 delete_columns=[\"embed_model\"],\n",
    "                 )"
   ]
  },
  {
   "cell_type": "markdown",
   "metadata": {},
   "source": [
    "### Analyse chunk_completion_file\n",
    "\n",
    "chunk_score:\n",
    "- chunker: fixed_line\n",
    "- scorer: bm25\n",
    "- splitter: word_splitter\n",
    "- chunk_lines_size = [8, 16, 32, 64, 128]\n",
    "- chunk_completion_file = [True, False]\n",
    "- completion_last_chunk_size = 32"
   ]
  },
  {
   "cell_type": "code",
   "execution_count": 28,
   "metadata": {},
   "outputs": [],
   "source": [
    "chunk_completion_file_results = results[results[\"chunker\"] == \"fixed_line\"]"
   ]
  },
  {
   "cell_type": "code",
   "execution_count": null,
   "metadata": {},
   "outputs": [
    {
     "data": {
      "application/vnd.jupyter.widget-view+json": {
       "model_id": "a557b84c7ce14f48a2901d3cfd68bd7e",
       "version_major": 2,
       "version_minor": 0
      },
      "text/plain": [
       "interactive(children=(Text(value='chunk_lines_size', description='plot_by'), Dropdown(description='metric', op…"
      ]
     },
     "metadata": {},
     "output_type": "display_data"
    }
   ],
   "source": [
    "plot_params = {\n",
    "    'plot_by': 'chunk_lines_size',\n",
    "}\n",
    "make_interaction(results=chunk_completion_file_results, \n",
    "                 group_columns=group_columns, \n",
    "                 dropdown=plot_dropdown, \n",
    "                 plot_params=plot_params,\n",
    "                 metrics=['em', 'is_prefix', 'prefix_ratio'],\n",
    "                 )"
   ]
  },
  {
   "cell_type": "code",
   "execution_count": null,
   "metadata": {},
   "outputs": [
    {
     "data": {
      "application/vnd.jupyter.widget-view+json": {
       "model_id": "49fbf0b237584b5ea6133ec64b8b8f44",
       "version_major": 2,
       "version_minor": 0
      },
      "text/plain": [
       "interactive(children=(Text(value='chunk_lines_size', description='plot_by'), Text(value='chunk_completion_file…"
      ]
     },
     "metadata": {},
     "output_type": "display_data"
    }
   ],
   "source": [
    "plot_params = {\n",
    "    'plot_by': 'chunk_lines_size',\n",
    "    'group_by': 'chunk_completion_file',\n",
    "\n",
    "}\n",
    "make_interaction(results=chunk_completion_file_results, \n",
    "                 group_columns=group_columns, \n",
    "                 dropdown=plot_dropdown_with_group_by, \n",
    "                 plot_params=plot_params,\n",
    "                 metrics=['em', 'is_prefix', 'prefix_ratio'],\n",
    "                 )"
   ]
  },
  {
   "cell_type": "markdown",
   "metadata": {},
   "source": [
    "### Analyse chunkers\n",
    "\n",
    "chunk_score:\n",
    "- chunker: full_file/fixed_line/langchain\n",
    "- scorer: bm25\n",
    "- splitter: word_splitter\n",
    "\n",
    "setup only for fixed_line/langchain:\n",
    "- chunk_lines_size = [8, 16, 32, 64, 128]\n",
    "- chunk_completion_file = True\n",
    "- completion_last_chunk_size = 32"
   ]
  },
  {
   "cell_type": "code",
   "execution_count": 33,
   "metadata": {},
   "outputs": [],
   "source": [
    "bm25_word_splitter_results = results[(results[\"scorer\"] == \"bm25\") \n",
    "                                     & (results[\"splitter\"] == \"word_splitter\") \n",
    "                                     & (results[\"chunk_completion_file\"] == True)]\n",
    "\n",
    "fixed_line_results = bm25_word_splitter_results[(bm25_word_splitter_results[\"chunker\"] == \"full_file\") | (bm25_word_splitter_results[\"chunker\"] == \"fixed_line\" )]\n",
    "langchain_results = bm25_word_splitter_results[(bm25_word_splitter_results[\"chunker\"] == \"full_file\") | (bm25_word_splitter_results[\"chunker\"] == \"langchain\")]"
   ]
  },
  {
   "cell_type": "markdown",
   "metadata": {},
   "source": [
    "#### Full_file VS Fixed_Line"
   ]
  },
  {
   "cell_type": "code",
   "execution_count": null,
   "metadata": {},
   "outputs": [
    {
     "data": {
      "application/vnd.jupyter.widget-view+json": {
       "model_id": "ca0ebccc63804eb39ecca741b1d91235",
       "version_major": 2,
       "version_minor": 0
      },
      "text/plain": [
       "interactive(children=(Text(value='chunk_lines_size', description='plot_by'), Dropdown(description='metric', op…"
      ]
     },
     "metadata": {},
     "output_type": "display_data"
    }
   ],
   "source": [
    "plot_params = {\n",
    "    'plot_by': 'chunk_lines_size',\n",
    "}\n",
    "make_interaction(results=fixed_line_results, \n",
    "                 group_columns=group_columns, \n",
    "                 dropdown=plot_dropdown, \n",
    "                 plot_params=plot_params,\n",
    "                 metrics=['em', 'is_prefix', 'prefix_ratio'],\n",
    "                 delete_columns=[\"embed_model\"],\n",
    "                 )"
   ]
  },
  {
   "cell_type": "markdown",
   "metadata": {},
   "source": [
    "#### Full_file VS Langchain"
   ]
  },
  {
   "cell_type": "code",
   "execution_count": null,
   "metadata": {},
   "outputs": [
    {
     "data": {
      "application/vnd.jupyter.widget-view+json": {
       "model_id": "c7d78933949e40a8bac599b4a891ad3f",
       "version_major": 2,
       "version_minor": 0
      },
      "text/plain": [
       "interactive(children=(Text(value='chunk_lines_size', description='plot_by'), Dropdown(description='metric', op…"
      ]
     },
     "metadata": {},
     "output_type": "display_data"
    }
   ],
   "source": [
    "plot_params = {\n",
    "    'plot_by': 'chunk_lines_size',\n",
    "}\n",
    "make_interaction(results=langchain_results, \n",
    "                 group_columns=group_columns, \n",
    "                 dropdown=plot_dropdown, \n",
    "                 plot_params=plot_params,\n",
    "                 metrics=['em', 'is_prefix', 'prefix_ratio'],\n",
    "                 delete_columns=[\"embed_model\"],\n",
    "                 )"
   ]
  },
  {
   "cell_type": "code",
   "execution_count": null,
   "metadata": {},
   "outputs": [],
   "source": []
  }
 ],
 "metadata": {
  "kernelspec": {
   "display_name": "chunk_exp2",
   "language": "python",
   "name": "python3"
  },
  "language_info": {
   "codemirror_mode": {
    "name": "ipython",
    "version": 3
   },
   "file_extension": ".py",
   "mimetype": "text/x-python",
   "name": "python",
   "nbconvert_exporter": "python",
   "pygments_lexer": "ipython3",
   "version": "3.10.12"
  }
 },
 "nbformat": 4,
 "nbformat_minor": 2
}
